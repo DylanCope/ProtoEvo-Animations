{
 "cells": [
  {
   "cell_type": "code",
   "execution_count": 1,
   "id": "c0f6873e-3fc3-46a3-8971-dca320bf3b9a",
   "metadata": {},
   "outputs": [
    {
     "data": {
      "text/html": [
       "<pre style=\"white-space:pre;overflow-x:auto;line-height:normal;font-family:Menlo,'DejaVu Sans Mono',consolas,'Courier New',monospace\">Manim Community <span style=\"color: #008000; text-decoration-color: #008000\">v0.17.1</span>\n",
       "\n",
       "</pre>\n"
      ],
      "text/plain": [
       "Manim Community \u001b[32mv0.\u001b[0m\u001b[32m17.1\u001b[0m\n",
       "\n"
      ]
     },
     "metadata": {},
     "output_type": "display_data"
    }
   ],
   "source": [
    "from manim import *\n",
    "\n",
    "config.media_width = \"75%\"\n",
    "config.verbosity = \"WARNING\""
   ]
  },
  {
   "cell_type": "code",
   "execution_count": 109,
   "id": "224c89b7-05ee-4a98-a937-e1969675a358",
   "metadata": {},
   "outputs": [],
   "source": [
    "import math\n",
    "\n",
    "def PDF_normal(x, mu, sigma):\n",
    "    '''\n",
    "    General form of probability density function of univariate normal distribution\n",
    "    '''\n",
    "    return math.exp(-((x-mu)**2)/(2*sigma**2))/(sigma*math.sqrt(2*math.pi))"
   ]
  },
  {
   "cell_type": "code",
   "execution_count": 189,
   "id": "0999abbb-90f5-4d3e-91bb-074e00d03585",
   "metadata": {},
   "outputs": [
    {
     "name": "stderr",
     "output_type": "stream",
     "text": [
      "                                                                                                                        \r"
     ]
    },
    {
     "data": {
      "text/html": [
       "<video src=\"media/jupyter/EvoChangeAnim@2022-08-21@02-40-02.mp4\" controls autoplay loop style=\"max-width: 75%;\"  >\n",
       "      Your browser does not support the <code>video</code> element.\n",
       "    </video>"
      ],
      "text/plain": [
       "<IPython.core.display.Video object>"
      ]
     },
     "metadata": {},
     "output_type": "display_data"
    }
   ],
   "source": [
    "%%manim EvoChangeAnim\n",
    "# %%manim -ql -n 14 EvoChangeAnim\n",
    "\n",
    "class EvoChangeAnim(Scene):\n",
    "    '''\n",
    "    Scene to observe how adjustments to the mean of a normal distrubtion\n",
    "    influences the shape of its probability density function\n",
    "    '''\n",
    "\n",
    "    def construct(self):\n",
    "        uncreate_at_end = []\n",
    "        \n",
    "        ax = Axes(\n",
    "            x_range = [0, 10, 1],\n",
    "            y_range = [0, 0.5, 0.1],\n",
    "            axis_config = {'include_numbers': False}\n",
    "        )\n",
    "        with register_font('./FiraCode-Retina.ttf'):\n",
    "            y_label = ax.get_y_axis_label(Text(r\"Frequency\", font=\"FiraCode Retina\", font_size=27), \n",
    "                                          edge=LEFT).rotate(PI / 2).next_to(ax, LEFT, buff=.1)\n",
    "            x_label = ax.get_x_axis_label(Text(r\"Trait Value\", font=\"FiraCode Retina\", font_size=27), \n",
    "                                          edge=DOWN, direction=DOWN, buff=1)\n",
    "        plot_labels = VGroup(x_label, y_label)\n",
    "\n",
    "        mu_1 = 3 \n",
    "        sd_1 = 1.25\n",
    "        \n",
    "        curve = ax.plot(lambda x: PDF_normal(x, mu_1, sd_1), color=BLUE)\n",
    "        \n",
    "        line_mu_1 = ax.get_vertical_line(ax.input_to_graph_point(mu_1, curve), color=BLUE)\n",
    "        mu_text = MathTex(rf'\\mu_1').next_to(line_mu_1, UP, buff=0.2).set_color(BLUE)\n",
    "        \n",
    "        uncreate_at_end.extend([ax, plot_labels, mu_text, line_mu_1, curve])\n",
    "        \n",
    "        # self.add(ax, mu_text, mu_value_text)\n",
    "        curve_ag = AnimationGroup(Create(curve), Create(plot_labels), lag_ratio=0.5)\n",
    "        mu_ag = AnimationGroup(Create(line_mu_1), Create(mu_text), lag_ratio=0.5)\n",
    "        self.play(AnimationGroup(Create(ax), curve_ag, mu_ag, lag_ratio=0.75), run_time=4)\n",
    "        self.wait()\n",
    "        \n",
    "        \n",
    "        # riemann_area = ax.get_riemann_rectangles(curve, x_range=[4, 10], dx=0.03, color=BLUE, fill_opacity=0.5)\n",
    "        survive_area = ax.get_area(curve, [5.2, 10], color=GREEN, opacity=0.5)\n",
    "        \n",
    "        with register_font('./FiraCode-Retina.ttf'):\n",
    "            survive_text = Text(\"Survivors\", color=GREEN, font='FiraCode Retina', font_size=30)\\\n",
    "                .next_to(survive_area, UP).shift(LEFT, 0.1)\n",
    "        uncreate_at_end.extend([survive_area])\n",
    "        \n",
    "        self.play(AnimationGroup(Create(survive_area), Create(survive_text), lag_ratio=0.1), run_time=1)\n",
    "        self.wait()\n",
    "        self.play(Uncreate(survive_text))\n",
    "        self.wait()\n",
    "        \n",
    "        mu_2 = 6\n",
    "        sd_2 = 1\n",
    "        \n",
    "        curve_2 = ax.plot(lambda x: PDF_normal(x, mu_2, sd_2), color=YELLOW)\n",
    "        line_mu_2 = ax.get_vertical_line(ax.input_to_graph_point(mu_2, curve_2), color=YELLOW)\n",
    "        mu2_text = MathTex(rf'\\mu_2').next_to(line_mu_2, UP, buff=0.2).set_color(YELLOW)\n",
    "        uncreate_at_end.extend([curve_2, line_mu_2, mu2_text])\n",
    "        \n",
    "        mu2_ag = AnimationGroup(Create(line_mu_2), Create(mu2_text), lag_ratio=0.5)\n",
    "        self.play(AnimationGroup(Create(curve_2), mu2_ag, lag_ratio=0.75), run_time=4)\n",
    "        self.wait()\n",
    "        \n",
    "        whole_plot = VGroup(ax, plot_labels, \n",
    "                            curve, line_mu_1, mu_text, survive_area, \n",
    "                            curve_2, line_mu_2, mu2_text)\n",
    "        \n",
    "        self.play(whole_plot.animate.scale(0.5).to_corner(UP + LEFT))\n",
    "        self.wait()\n",
    "        \n",
    "        with register_font('./FiraCode-Retina.ttf'):\n",
    "            evo_change_text = Text(\"How do we measure\\nevolutionary change?\", \n",
    "                                   font='FiraCode Retina', line_spacing=1, font_size=30)\\\n",
    "                .next_to(whole_plot, RIGHT, buff=1)\n",
    "        self.play(Create(evo_change_text), run_time=1)\n",
    "        \n",
    "        self.wait()\n",
    "        \n",
    "        above_group = VGroup(whole_plot, evo_change_text)\n",
    "        haldane_eq = MathTex(r\"r~\\text{haldanes} = \\frac{ \\ln \\mu_2 - \\ln \\mu_1 }{ \\sigma_{\\ln x} \", \n",
    "                               r\"(t_2 - t_1)\", r\" }\")\\\n",
    "            .next_to(above_group, DOWN, buff=1)        \n",
    "        \n",
    "        self.play(Write(haldane_eq))\n",
    "        self.wait()\n",
    "        \n",
    "        framebox1 = SurroundingRectangle(haldane_eq[1], buff = .1, color=RED)\n",
    "        with register_font('./FiraCode-Retina.ttf'):\n",
    "            framebox1_text = Text(\"Number of\\ngenerations\", font='FiraCode Retina', \n",
    "                                  line_spacing=1, font_size=24, color=RED)\\\n",
    "                .next_to(framebox1, RIGHT, buff=.3)\n",
    "\n",
    "        self.play(Create(framebox1), Create(framebox1_text))\n",
    "        self.wait()\n",
    "        \n",
    "        haldane_eq2 = MathTex(r\"r~\\text{haldanes}=\\frac{\\ln \\mu_2-\\ln \\mu_1}{\", r\"\\sigma_{\\ln x}\", r\"}\")\\\n",
    "            .next_to(above_group, DOWN, buff=1)\n",
    "        \n",
    "        self.play(AnimationGroup(AnimationGroup(FadeOut(framebox1), FadeOut(framebox1_text)), \n",
    "                                 TransformMatchingTex(haldane_eq, haldane_eq2), \n",
    "                                 lag_ratio=0.5))\n",
    "        self.wait()\n",
    "        \n",
    "        framebox2 = SurroundingRectangle(haldane_eq2[1], buff = .1, color=RED)\n",
    "        with register_font('./FiraCode-Retina.ttf'):\n",
    "            framebox2_text = Text(\"Pooled standard deviation of log-values between generations\", font='FiraCode Retina', \n",
    "                                  line_spacing=1, font_size=24, color=RED)\\\n",
    "                .next_to(framebox2, DOWN, buff=.3)\n",
    "\n",
    "        self.play(Create(framebox2), Create(framebox2_text))\n",
    "        self.wait()\n",
    "        self.play(Uncreate(framebox2), Uncreate(framebox2_text))\n",
    "        \n",
    "        uncreate_at_end.extend([haldane_eq2, evo_change_text])\n",
    "        \n",
    "        self.wait()\n",
    "        self.play(*[Uncreate(obj) for obj in uncreate_at_end], run_time=1.5)"
   ]
  },
  {
   "cell_type": "code",
   "execution_count": 11,
   "id": "211854ec-14bd-4fa8-9634-b0a30d60e093",
   "metadata": {},
   "outputs": [
    {
     "name": "stderr",
     "output_type": "stream",
     "text": [
      "                                                                                                                       \r"
     ]
    },
    {
     "data": {
      "text/html": [
       "<video src=\"media\\jupyter\\PooledSD@2022-12-20@22-40-01.mp4\" controls autoplay loop style=\"max-width: 75%;\"  >\n",
       "      Your browser does not support the <code>video</code> element.\n",
       "    </video>"
      ],
      "text/plain": [
       "<IPython.core.display.Video object>"
      ]
     },
     "metadata": {},
     "output_type": "display_data"
    }
   ],
   "source": [
    "%%manim PooledSD\n",
    "\n",
    "class PooledSD(Scene):\n",
    "    '''\n",
    "    Scene to observe how adjustments to the mean of a normal distrubtion\n",
    "    influences the shape of its probability density function\n",
    "    '''\n",
    "\n",
    "    def construct(self):\n",
    "        eq = MathTex(r's_{pooled} = \\frac{(N_1 - 1) s_1 + (N_2 - 1) s_2}{N_1 + N_2}')\n",
    "        self.play(Create(eq), run_time=3)\n",
    "        self.wait()"
   ]
  },
  {
   "cell_type": "code",
   "execution_count": 110,
   "id": "3b2cc67e-79fd-4f19-8821-fa86b6d79feb",
   "metadata": {},
   "outputs": [
    {
     "data": {
      "text/html": [
       "<div>\n",
       "<style scoped>\n",
       "    .dataframe tbody tr th:only-of-type {\n",
       "        vertical-align: middle;\n",
       "    }\n",
       "\n",
       "    .dataframe tbody tr th {\n",
       "        vertical-align: top;\n",
       "    }\n",
       "\n",
       "    .dataframe thead th {\n",
       "        text-align: right;\n",
       "    }\n",
       "</style>\n",
       "<table border=\"1\" class=\"dataframe\">\n",
       "  <thead>\n",
       "    <tr style=\"text-align: right;\">\n",
       "      <th></th>\n",
       "      <th>Crossover Events</th>\n",
       "      <th>Max Generation</th>\n",
       "      <th>Mean Age</th>\n",
       "      <th>Mean Available Energy</th>\n",
       "      <th>Mean Construction Mass</th>\n",
       "      <th>Mean Death Rate</th>\n",
       "      <th>Mean Generation</th>\n",
       "      <th>Mean Genetic Size</th>\n",
       "      <th>Mean Growth Rate</th>\n",
       "      <th>Mean Has Mated</th>\n",
       "      <th>...</th>\n",
       "      <th>Var Meat Digestion Rate</th>\n",
       "      <th>Var Mutations</th>\n",
       "      <th>Var Network Depth</th>\n",
       "      <th>Var Network Size</th>\n",
       "      <th>Var Plant Digestion Rate</th>\n",
       "      <th>Var Retinal Production</th>\n",
       "      <th>Var Size</th>\n",
       "      <th>Var Speed</th>\n",
       "      <th>Var Split Radius</th>\n",
       "      <th>Var Total Mass</th>\n",
       "    </tr>\n",
       "  </thead>\n",
       "  <tbody>\n",
       "    <tr>\n",
       "      <th>count</th>\n",
       "      <td>164678.000000</td>\n",
       "      <td>164678.000000</td>\n",
       "      <td>164678.000000</td>\n",
       "      <td>164678.000000</td>\n",
       "      <td>164678.000000</td>\n",
       "      <td>164678.000000</td>\n",
       "      <td>164678.000000</td>\n",
       "      <td>164678.000000</td>\n",
       "      <td>164678.000000</td>\n",
       "      <td>164678.000000</td>\n",
       "      <td>...</td>\n",
       "      <td>164678.000000</td>\n",
       "      <td>164678.000000</td>\n",
       "      <td>164678.000000</td>\n",
       "      <td>164678.000000</td>\n",
       "      <td>164678.000000</td>\n",
       "      <td>164671.000000</td>\n",
       "      <td>164678.000000</td>\n",
       "      <td>164678.000000</td>\n",
       "      <td>164678.000000</td>\n",
       "      <td>164678.000000</td>\n",
       "    </tr>\n",
       "    <tr>\n",
       "      <th>mean</th>\n",
       "      <td>545417.966790</td>\n",
       "      <td>5017.111284</td>\n",
       "      <td>2239.842336</td>\n",
       "      <td>229166.109252</td>\n",
       "      <td>0.015579</td>\n",
       "      <td>0.129675</td>\n",
       "      <td>4878.069082</td>\n",
       "      <td>1.260722</td>\n",
       "      <td>8.018051</td>\n",
       "      <td>0.099778</td>\n",
       "      <td>...</td>\n",
       "      <td>16.354370</td>\n",
       "      <td>1226.919952</td>\n",
       "      <td>0.220623</td>\n",
       "      <td>0.372206</td>\n",
       "      <td>14.833753</td>\n",
       "      <td>0.769839</td>\n",
       "      <td>0.091959</td>\n",
       "      <td>3.890560</td>\n",
       "      <td>0.063765</td>\n",
       "      <td>7885.488981</td>\n",
       "    </tr>\n",
       "    <tr>\n",
       "      <th>std</th>\n",
       "      <td>186874.981972</td>\n",
       "      <td>2772.173514</td>\n",
       "      <td>188.220838</td>\n",
       "      <td>21330.575433</td>\n",
       "      <td>0.003039</td>\n",
       "      <td>0.003014</td>\n",
       "      <td>2807.583060</td>\n",
       "      <td>0.028784</td>\n",
       "      <td>0.233857</td>\n",
       "      <td>0.098230</td>\n",
       "      <td>...</td>\n",
       "      <td>3.988129</td>\n",
       "      <td>2901.836805</td>\n",
       "      <td>0.278103</td>\n",
       "      <td>0.483640</td>\n",
       "      <td>2.934067</td>\n",
       "      <td>0.329094</td>\n",
       "      <td>0.010009</td>\n",
       "      <td>14.129821</td>\n",
       "      <td>0.015648</td>\n",
       "      <td>3506.397043</td>\n",
       "    </tr>\n",
       "    <tr>\n",
       "      <th>min</th>\n",
       "      <td>0.000000</td>\n",
       "      <td>1.000000</td>\n",
       "      <td>0.000000</td>\n",
       "      <td>100000.000000</td>\n",
       "      <td>0.000000</td>\n",
       "      <td>0.000000</td>\n",
       "      <td>1.000000</td>\n",
       "      <td>1.152540</td>\n",
       "      <td>5.965850</td>\n",
       "      <td>0.000000</td>\n",
       "      <td>...</td>\n",
       "      <td>2.446760</td>\n",
       "      <td>0.000000</td>\n",
       "      <td>0.000000</td>\n",
       "      <td>0.000000</td>\n",
       "      <td>3.399690</td>\n",
       "      <td>0.000000</td>\n",
       "      <td>0.019650</td>\n",
       "      <td>0.000000</td>\n",
       "      <td>0.011640</td>\n",
       "      <td>8.305860</td>\n",
       "    </tr>\n",
       "    <tr>\n",
       "      <th>25%</th>\n",
       "      <td>449365.750000</td>\n",
       "      <td>2842.000000</td>\n",
       "      <td>2119.871952</td>\n",
       "      <td>214331.343750</td>\n",
       "      <td>0.013740</td>\n",
       "      <td>0.127720</td>\n",
       "      <td>2446.123782</td>\n",
       "      <td>1.241150</td>\n",
       "      <td>7.859642</td>\n",
       "      <td>0.038710</td>\n",
       "      <td>...</td>\n",
       "      <td>13.718840</td>\n",
       "      <td>125.683312</td>\n",
       "      <td>0.002700</td>\n",
       "      <td>0.070910</td>\n",
       "      <td>12.905475</td>\n",
       "      <td>0.554425</td>\n",
       "      <td>0.085580</td>\n",
       "      <td>3.040062</td>\n",
       "      <td>0.053490</td>\n",
       "      <td>5640.964842</td>\n",
       "    </tr>\n",
       "    <tr>\n",
       "      <th>50%</th>\n",
       "      <td>559611.000000</td>\n",
       "      <td>4862.000000</td>\n",
       "      <td>2247.610965</td>\n",
       "      <td>226112.304690</td>\n",
       "      <td>0.015240</td>\n",
       "      <td>0.129450</td>\n",
       "      <td>4850.567140</td>\n",
       "      <td>1.260940</td>\n",
       "      <td>8.016510</td>\n",
       "      <td>0.064520</td>\n",
       "      <td>...</td>\n",
       "      <td>16.276580</td>\n",
       "      <td>250.552750</td>\n",
       "      <td>0.088065</td>\n",
       "      <td>0.226600</td>\n",
       "      <td>14.734140</td>\n",
       "      <td>0.737300</td>\n",
       "      <td>0.090570</td>\n",
       "      <td>3.473465</td>\n",
       "      <td>0.062090</td>\n",
       "      <td>7521.596190</td>\n",
       "    </tr>\n",
       "    <tr>\n",
       "      <th>75%</th>\n",
       "      <td>696574.000000</td>\n",
       "      <td>7448.000000</td>\n",
       "      <td>2366.481023</td>\n",
       "      <td>240637.246095</td>\n",
       "      <td>0.017000</td>\n",
       "      <td>0.131360</td>\n",
       "      <td>7394.491088</td>\n",
       "      <td>1.279380</td>\n",
       "      <td>8.172640</td>\n",
       "      <td>0.120000</td>\n",
       "      <td>...</td>\n",
       "      <td>18.860600</td>\n",
       "      <td>514.141223</td>\n",
       "      <td>0.280755</td>\n",
       "      <td>0.399895</td>\n",
       "      <td>16.668017</td>\n",
       "      <td>0.945060</td>\n",
       "      <td>0.096540</td>\n",
       "      <td>3.930508</td>\n",
       "      <td>0.071960</td>\n",
       "      <td>9676.018550</td>\n",
       "    </tr>\n",
       "    <tr>\n",
       "      <th>max</th>\n",
       "      <td>826220.000000</td>\n",
       "      <td>9726.000000</td>\n",
       "      <td>3157.911380</td>\n",
       "      <td>370322.156250</td>\n",
       "      <td>0.204930</td>\n",
       "      <td>0.189140</td>\n",
       "      <td>9695.917970</td>\n",
       "      <td>1.370870</td>\n",
       "      <td>8.943970</td>\n",
       "      <td>0.546740</td>\n",
       "      <td>...</td>\n",
       "      <td>36.155630</td>\n",
       "      <td>26305.380860</td>\n",
       "      <td>1.030710</td>\n",
       "      <td>3.063210</td>\n",
       "      <td>32.518320</td>\n",
       "      <td>7.298680</td>\n",
       "      <td>0.406690</td>\n",
       "      <td>2453.419680</td>\n",
       "      <td>0.203380</td>\n",
       "      <td>91720.750000</td>\n",
       "    </tr>\n",
       "  </tbody>\n",
       "</table>\n",
       "<p>8 rows × 71 columns</p>\n",
       "</div>"
      ],
      "text/plain": [
       "       Crossover Events  Max Generation       Mean Age  Mean Available Energy  \\\n",
       "count     164678.000000   164678.000000  164678.000000          164678.000000   \n",
       "mean      545417.966790     5017.111284    2239.842336          229166.109252   \n",
       "std       186874.981972     2772.173514     188.220838           21330.575433   \n",
       "min            0.000000        1.000000       0.000000          100000.000000   \n",
       "25%       449365.750000     2842.000000    2119.871952          214331.343750   \n",
       "50%       559611.000000     4862.000000    2247.610965          226112.304690   \n",
       "75%       696574.000000     7448.000000    2366.481023          240637.246095   \n",
       "max       826220.000000     9726.000000    3157.911380          370322.156250   \n",
       "\n",
       "       Mean Construction Mass  Mean Death Rate  Mean Generation  \\\n",
       "count           164678.000000    164678.000000    164678.000000   \n",
       "mean                 0.015579         0.129675      4878.069082   \n",
       "std                  0.003039         0.003014      2807.583060   \n",
       "min                  0.000000         0.000000         1.000000   \n",
       "25%                  0.013740         0.127720      2446.123782   \n",
       "50%                  0.015240         0.129450      4850.567140   \n",
       "75%                  0.017000         0.131360      7394.491088   \n",
       "max                  0.204930         0.189140      9695.917970   \n",
       "\n",
       "       Mean Genetic Size  Mean Growth Rate  Mean Has Mated  ...  \\\n",
       "count      164678.000000     164678.000000   164678.000000  ...   \n",
       "mean            1.260722          8.018051        0.099778  ...   \n",
       "std             0.028784          0.233857        0.098230  ...   \n",
       "min             1.152540          5.965850        0.000000  ...   \n",
       "25%             1.241150          7.859642        0.038710  ...   \n",
       "50%             1.260940          8.016510        0.064520  ...   \n",
       "75%             1.279380          8.172640        0.120000  ...   \n",
       "max             1.370870          8.943970        0.546740  ...   \n",
       "\n",
       "       Var Meat Digestion Rate  Var Mutations  Var Network Depth  \\\n",
       "count            164678.000000  164678.000000      164678.000000   \n",
       "mean                 16.354370    1226.919952           0.220623   \n",
       "std                   3.988129    2901.836805           0.278103   \n",
       "min                   2.446760       0.000000           0.000000   \n",
       "25%                  13.718840     125.683312           0.002700   \n",
       "50%                  16.276580     250.552750           0.088065   \n",
       "75%                  18.860600     514.141223           0.280755   \n",
       "max                  36.155630   26305.380860           1.030710   \n",
       "\n",
       "       Var Network Size  Var Plant Digestion Rate  Var Retinal Production  \\\n",
       "count     164678.000000             164678.000000           164671.000000   \n",
       "mean           0.372206                 14.833753                0.769839   \n",
       "std            0.483640                  2.934067                0.329094   \n",
       "min            0.000000                  3.399690                0.000000   \n",
       "25%            0.070910                 12.905475                0.554425   \n",
       "50%            0.226600                 14.734140                0.737300   \n",
       "75%            0.399895                 16.668017                0.945060   \n",
       "max            3.063210                 32.518320                7.298680   \n",
       "\n",
       "            Var Size      Var Speed  Var Split Radius  Var Total Mass  \n",
       "count  164678.000000  164678.000000     164678.000000   164678.000000  \n",
       "mean        0.091959       3.890560          0.063765     7885.488981  \n",
       "std         0.010009      14.129821          0.015648     3506.397043  \n",
       "min         0.019650       0.000000          0.011640        8.305860  \n",
       "25%         0.085580       3.040062          0.053490     5640.964842  \n",
       "50%         0.090570       3.473465          0.062090     7521.596190  \n",
       "75%         0.096540       3.930508          0.071960     9676.018550  \n",
       "max         0.406690    2453.419680          0.203380    91720.750000  \n",
       "\n",
       "[8 rows x 71 columns]"
      ]
     },
     "execution_count": 110,
     "metadata": {},
     "output_type": "execute_result"
    }
   ],
   "source": [
    "import pandas as pd\n",
    "\n",
    "history_df = pd.read_csv('tartarus-zubat-corporis-history.csv')\n",
    "history_df.describe()"
   ]
  },
  {
   "cell_type": "code",
   "execution_count": 111,
   "id": "64952095-c417-4ddc-8efe-756ac581ed3b",
   "metadata": {},
   "outputs": [],
   "source": [
    "import matplotlib.pyplot as plt\n",
    "%matplotlib inline\n",
    "\n",
    "import seaborn as sns\n",
    "sns.set()"
   ]
  },
  {
   "cell_type": "code",
   "execution_count": 112,
   "id": "c204d94f-4e5d-46e9-b891-54eb25a4b3b8",
   "metadata": {},
   "outputs": [
    {
     "name": "stdout",
     "output_type": "stream",
     "text": [
      "Age, Available Energy, Construction Mass, Death Rate, Genetic Size, Growth Rate, Has Mated, Health, Herbivore Factor, Max Turning, Meat Digestion Rate, Mutations, Network Depth, Network Size, Plant Digestion Rate, Retinal Production, Size, Speed, Split Radius, Total Mass\n"
     ]
    }
   ],
   "source": [
    "features = [col[len('Mean '):] for col in history_df.columns if col.startswith('Mean')]\n",
    "features.remove('Generation')\n",
    "print(', '.join(features))"
   ]
  },
  {
   "cell_type": "code",
   "execution_count": 113,
   "id": "d0378079-f81d-4067-b51a-47c85bea2376",
   "metadata": {
    "collapsed": true
   },
   "outputs": [
    {
     "ename": "KeyboardInterrupt",
     "evalue": "",
     "output_type": "error",
     "traceback": [
      "\u001b[1;31m---------------------------------------------------------------------------\u001b[0m",
      "\u001b[1;31mKeyboardInterrupt\u001b[0m                         Traceback (most recent call last)",
      "Cell \u001b[1;32mIn[113], line 1\u001b[0m\n\u001b[1;32m----> 1\u001b[0m \u001b[43msns\u001b[49m\u001b[38;5;241;43m.\u001b[39;49m\u001b[43mlineplot\u001b[49m\u001b[43m(\u001b[49m\u001b[43mdata\u001b[49m\u001b[38;5;241;43m=\u001b[39;49m\u001b[43mhistory_df\u001b[49m\u001b[43m,\u001b[49m\u001b[43m \u001b[49m\u001b[43mx\u001b[49m\u001b[38;5;241;43m=\u001b[39;49m\u001b[38;5;124;43m'\u001b[39;49m\u001b[38;5;124;43mMean Generation\u001b[39;49m\u001b[38;5;124;43m'\u001b[39;49m\u001b[43m,\u001b[49m\u001b[43m \u001b[49m\u001b[43my\u001b[49m\u001b[38;5;241;43m=\u001b[39;49m\u001b[38;5;124;43m'\u001b[39;49m\u001b[38;5;124;43mMean Max Turning\u001b[39;49m\u001b[38;5;124;43m'\u001b[39;49m\u001b[43m)\u001b[49m\n",
      "File \u001b[1;32m~\\miniconda3\\envs\\manim-env\\Lib\\site-packages\\seaborn\\relational.py:645\u001b[0m, in \u001b[0;36mlineplot\u001b[1;34m(data, x, y, hue, size, style, units, palette, hue_order, hue_norm, sizes, size_order, size_norm, dashes, markers, style_order, estimator, errorbar, n_boot, seed, orient, sort, err_style, err_kws, legend, ci, ax, **kwargs)\u001b[0m\n\u001b[0;32m    642\u001b[0m color \u001b[38;5;241m=\u001b[39m kwargs\u001b[38;5;241m.\u001b[39mpop(\u001b[38;5;124m\"\u001b[39m\u001b[38;5;124mcolor\u001b[39m\u001b[38;5;124m\"\u001b[39m, kwargs\u001b[38;5;241m.\u001b[39mpop(\u001b[38;5;124m\"\u001b[39m\u001b[38;5;124mc\u001b[39m\u001b[38;5;124m\"\u001b[39m, \u001b[38;5;28;01mNone\u001b[39;00m))\n\u001b[0;32m    643\u001b[0m kwargs[\u001b[38;5;124m\"\u001b[39m\u001b[38;5;124mcolor\u001b[39m\u001b[38;5;124m\"\u001b[39m] \u001b[38;5;241m=\u001b[39m _default_color(ax\u001b[38;5;241m.\u001b[39mplot, hue, color, kwargs)\n\u001b[1;32m--> 645\u001b[0m \u001b[43mp\u001b[49m\u001b[38;5;241;43m.\u001b[39;49m\u001b[43mplot\u001b[49m\u001b[43m(\u001b[49m\u001b[43max\u001b[49m\u001b[43m,\u001b[49m\u001b[43m \u001b[49m\u001b[43mkwargs\u001b[49m\u001b[43m)\u001b[49m\n\u001b[0;32m    646\u001b[0m \u001b[38;5;28;01mreturn\u001b[39;00m ax\n",
      "File \u001b[1;32m~\\miniconda3\\envs\\manim-env\\Lib\\site-packages\\seaborn\\relational.py:441\u001b[0m, in \u001b[0;36m_LinePlotter.plot\u001b[1;34m(self, ax, kws)\u001b[0m\n\u001b[0;32m    438\u001b[0m     grouped \u001b[38;5;241m=\u001b[39m sub_data\u001b[38;5;241m.\u001b[39mgroupby(orient, sort\u001b[38;5;241m=\u001b[39m\u001b[38;5;28mself\u001b[39m\u001b[38;5;241m.\u001b[39msort)\n\u001b[0;32m    439\u001b[0m     \u001b[38;5;66;03m# Could pass as_index=False instead of reset_index,\u001b[39;00m\n\u001b[0;32m    440\u001b[0m     \u001b[38;5;66;03m# but that fails on a corner case with older pandas.\u001b[39;00m\n\u001b[1;32m--> 441\u001b[0m     sub_data \u001b[38;5;241m=\u001b[39m \u001b[43mgrouped\u001b[49m\u001b[38;5;241;43m.\u001b[39;49m\u001b[43mapply\u001b[49m\u001b[43m(\u001b[49m\u001b[43magg\u001b[49m\u001b[43m,\u001b[49m\u001b[43m \u001b[49m\u001b[43mother\u001b[49m\u001b[43m)\u001b[49m\u001b[38;5;241m.\u001b[39mreset_index()\n\u001b[0;32m    442\u001b[0m \u001b[38;5;28;01melse\u001b[39;00m:\n\u001b[0;32m    443\u001b[0m     sub_data[\u001b[38;5;124mf\u001b[39m\u001b[38;5;124m\"\u001b[39m\u001b[38;5;132;01m{\u001b[39;00mother\u001b[38;5;132;01m}\u001b[39;00m\u001b[38;5;124mmin\u001b[39m\u001b[38;5;124m\"\u001b[39m] \u001b[38;5;241m=\u001b[39m np\u001b[38;5;241m.\u001b[39mnan\n",
      "File \u001b[1;32m~\\miniconda3\\envs\\manim-env\\Lib\\site-packages\\pandas\\core\\groupby\\groupby.py:1549\u001b[0m, in \u001b[0;36mGroupBy.apply\u001b[1;34m(self, func, *args, **kwargs)\u001b[0m\n\u001b[0;32m   1547\u001b[0m \u001b[38;5;28;01mwith\u001b[39;00m option_context(\u001b[38;5;124m\"\u001b[39m\u001b[38;5;124mmode.chained_assignment\u001b[39m\u001b[38;5;124m\"\u001b[39m, \u001b[38;5;28;01mNone\u001b[39;00m):\n\u001b[0;32m   1548\u001b[0m     \u001b[38;5;28;01mtry\u001b[39;00m:\n\u001b[1;32m-> 1549\u001b[0m         result \u001b[38;5;241m=\u001b[39m \u001b[38;5;28;43mself\u001b[39;49m\u001b[38;5;241;43m.\u001b[39;49m\u001b[43m_python_apply_general\u001b[49m\u001b[43m(\u001b[49m\u001b[43mf\u001b[49m\u001b[43m,\u001b[49m\u001b[43m \u001b[49m\u001b[38;5;28;43mself\u001b[39;49m\u001b[38;5;241;43m.\u001b[39;49m\u001b[43m_selected_obj\u001b[49m\u001b[43m)\u001b[49m\n\u001b[0;32m   1550\u001b[0m     \u001b[38;5;28;01mexcept\u001b[39;00m \u001b[38;5;167;01mTypeError\u001b[39;00m:\n\u001b[0;32m   1551\u001b[0m         \u001b[38;5;66;03m# gh-20949\u001b[39;00m\n\u001b[0;32m   1552\u001b[0m         \u001b[38;5;66;03m# try again, with .apply acting as a filtering\u001b[39;00m\n\u001b[1;32m   (...)\u001b[0m\n\u001b[0;32m   1556\u001b[0m         \u001b[38;5;66;03m# fails on *some* columns, e.g. a numeric operation\u001b[39;00m\n\u001b[0;32m   1557\u001b[0m         \u001b[38;5;66;03m# on a string grouper column\u001b[39;00m\n\u001b[0;32m   1559\u001b[0m         \u001b[38;5;28;01mwith\u001b[39;00m \u001b[38;5;28mself\u001b[39m\u001b[38;5;241m.\u001b[39m_group_selection_context():\n",
      "File \u001b[1;32m~\\miniconda3\\envs\\manim-env\\Lib\\site-packages\\pandas\\core\\groupby\\groupby.py:1601\u001b[0m, in \u001b[0;36mGroupBy._python_apply_general\u001b[1;34m(self, f, data, not_indexed_same, is_transform, is_agg)\u001b[0m\n\u001b[0;32m   1564\u001b[0m \u001b[38;5;129m@final\u001b[39m\n\u001b[0;32m   1565\u001b[0m \u001b[38;5;28;01mdef\u001b[39;00m \u001b[38;5;21m_python_apply_general\u001b[39m(\n\u001b[0;32m   1566\u001b[0m     \u001b[38;5;28mself\u001b[39m,\n\u001b[1;32m   (...)\u001b[0m\n\u001b[0;32m   1571\u001b[0m     is_agg: \u001b[38;5;28mbool\u001b[39m \u001b[38;5;241m=\u001b[39m \u001b[38;5;28;01mFalse\u001b[39;00m,\n\u001b[0;32m   1572\u001b[0m ) \u001b[38;5;241m-\u001b[39m\u001b[38;5;241m>\u001b[39m NDFrameT:\n\u001b[0;32m   1573\u001b[0m     \u001b[38;5;124;03m\"\"\"\u001b[39;00m\n\u001b[0;32m   1574\u001b[0m \u001b[38;5;124;03m    Apply function f in python space\u001b[39;00m\n\u001b[0;32m   1575\u001b[0m \n\u001b[1;32m   (...)\u001b[0m\n\u001b[0;32m   1599\u001b[0m \u001b[38;5;124;03m        data after applying f\u001b[39;00m\n\u001b[0;32m   1600\u001b[0m \u001b[38;5;124;03m    \"\"\"\u001b[39;00m\n\u001b[1;32m-> 1601\u001b[0m     values, mutated \u001b[38;5;241m=\u001b[39m \u001b[38;5;28;43mself\u001b[39;49m\u001b[38;5;241;43m.\u001b[39;49m\u001b[43mgrouper\u001b[49m\u001b[38;5;241;43m.\u001b[39;49m\u001b[43mapply\u001b[49m\u001b[43m(\u001b[49m\u001b[43mf\u001b[49m\u001b[43m,\u001b[49m\u001b[43m \u001b[49m\u001b[43mdata\u001b[49m\u001b[43m,\u001b[49m\u001b[43m \u001b[49m\u001b[38;5;28;43mself\u001b[39;49m\u001b[38;5;241;43m.\u001b[39;49m\u001b[43maxis\u001b[49m\u001b[43m)\u001b[49m\n\u001b[0;32m   1602\u001b[0m     \u001b[38;5;28;01mif\u001b[39;00m not_indexed_same \u001b[38;5;129;01mis\u001b[39;00m \u001b[38;5;28;01mNone\u001b[39;00m:\n\u001b[0;32m   1603\u001b[0m         not_indexed_same \u001b[38;5;241m=\u001b[39m mutated \u001b[38;5;129;01mor\u001b[39;00m \u001b[38;5;28mself\u001b[39m\u001b[38;5;241m.\u001b[39mmutated\n",
      "File \u001b[1;32m~\\miniconda3\\envs\\manim-env\\Lib\\site-packages\\pandas\\core\\groupby\\ops.py:834\u001b[0m, in \u001b[0;36mBaseGrouper.apply\u001b[1;34m(self, f, data, axis)\u001b[0m\n\u001b[0;32m    831\u001b[0m \u001b[38;5;66;03m# This calls DataSplitter.__iter__\u001b[39;00m\n\u001b[0;32m    832\u001b[0m zipped \u001b[38;5;241m=\u001b[39m \u001b[38;5;28mzip\u001b[39m(group_keys, splitter)\n\u001b[1;32m--> 834\u001b[0m \u001b[38;5;28;01mfor\u001b[39;00m key, group \u001b[38;5;129;01min\u001b[39;00m zipped:\n\u001b[0;32m    835\u001b[0m     \u001b[38;5;28mobject\u001b[39m\u001b[38;5;241m.\u001b[39m\u001b[38;5;21m__setattr__\u001b[39m(group, \u001b[38;5;124m\"\u001b[39m\u001b[38;5;124mname\u001b[39m\u001b[38;5;124m\"\u001b[39m, key)\n\u001b[0;32m    837\u001b[0m     \u001b[38;5;66;03m# group might be modified\u001b[39;00m\n",
      "File \u001b[1;32m~\\miniconda3\\envs\\manim-env\\Lib\\site-packages\\pandas\\core\\groupby\\ops.py:1332\u001b[0m, in \u001b[0;36mDataSplitter.__iter__\u001b[1;34m(self)\u001b[0m\n\u001b[0;32m   1329\u001b[0m starts, ends \u001b[38;5;241m=\u001b[39m lib\u001b[38;5;241m.\u001b[39mgenerate_slices(\u001b[38;5;28mself\u001b[39m\u001b[38;5;241m.\u001b[39mslabels, \u001b[38;5;28mself\u001b[39m\u001b[38;5;241m.\u001b[39mngroups)\n\u001b[0;32m   1331\u001b[0m \u001b[38;5;28;01mfor\u001b[39;00m start, end \u001b[38;5;129;01min\u001b[39;00m \u001b[38;5;28mzip\u001b[39m(starts, ends):\n\u001b[1;32m-> 1332\u001b[0m     \u001b[38;5;28;01myield\u001b[39;00m \u001b[38;5;28;43mself\u001b[39;49m\u001b[38;5;241;43m.\u001b[39;49m\u001b[43m_chop\u001b[49m\u001b[43m(\u001b[49m\u001b[43msdata\u001b[49m\u001b[43m,\u001b[49m\u001b[43m \u001b[49m\u001b[38;5;28;43mslice\u001b[39;49m\u001b[43m(\u001b[49m\u001b[43mstart\u001b[49m\u001b[43m,\u001b[49m\u001b[43m \u001b[49m\u001b[43mend\u001b[49m\u001b[43m)\u001b[49m\u001b[43m)\u001b[49m\n",
      "File \u001b[1;32m~\\miniconda3\\envs\\manim-env\\Lib\\site-packages\\pandas\\core\\groupby\\ops.py:1357\u001b[0m, in \u001b[0;36mFrameSplitter._chop\u001b[1;34m(self, sdata, slice_obj)\u001b[0m\n\u001b[0;32m   1351\u001b[0m \u001b[38;5;28;01mdef\u001b[39;00m \u001b[38;5;21m_chop\u001b[39m(\u001b[38;5;28mself\u001b[39m, sdata: DataFrame, slice_obj: \u001b[38;5;28mslice\u001b[39m) \u001b[38;5;241m-\u001b[39m\u001b[38;5;241m>\u001b[39m DataFrame:\n\u001b[0;32m   1352\u001b[0m     \u001b[38;5;66;03m# Fastpath equivalent to:\u001b[39;00m\n\u001b[0;32m   1353\u001b[0m     \u001b[38;5;66;03m# if self.axis == 0:\u001b[39;00m\n\u001b[0;32m   1354\u001b[0m     \u001b[38;5;66;03m#     return sdata.iloc[slice_obj]\u001b[39;00m\n\u001b[0;32m   1355\u001b[0m     \u001b[38;5;66;03m# else:\u001b[39;00m\n\u001b[0;32m   1356\u001b[0m     \u001b[38;5;66;03m#     return sdata.iloc[:, slice_obj]\u001b[39;00m\n\u001b[1;32m-> 1357\u001b[0m     mgr \u001b[38;5;241m=\u001b[39m \u001b[43msdata\u001b[49m\u001b[38;5;241;43m.\u001b[39;49m\u001b[43m_mgr\u001b[49m\u001b[38;5;241;43m.\u001b[39;49m\u001b[43mget_slice\u001b[49m\u001b[43m(\u001b[49m\u001b[43mslice_obj\u001b[49m\u001b[43m,\u001b[49m\u001b[43m \u001b[49m\u001b[43maxis\u001b[49m\u001b[38;5;241;43m=\u001b[39;49m\u001b[38;5;241;43m1\u001b[39;49m\u001b[43m \u001b[49m\u001b[38;5;241;43m-\u001b[39;49m\u001b[43m \u001b[49m\u001b[38;5;28;43mself\u001b[39;49m\u001b[38;5;241;43m.\u001b[39;49m\u001b[43maxis\u001b[49m\u001b[43m)\u001b[49m\n\u001b[0;32m   1358\u001b[0m     df \u001b[38;5;241m=\u001b[39m sdata\u001b[38;5;241m.\u001b[39m_constructor(mgr)\n\u001b[0;32m   1359\u001b[0m     \u001b[38;5;28;01mreturn\u001b[39;00m df\u001b[38;5;241m.\u001b[39m__finalize__(sdata, method\u001b[38;5;241m=\u001b[39m\u001b[38;5;124m\"\u001b[39m\u001b[38;5;124mgroupby\u001b[39m\u001b[38;5;124m\"\u001b[39m)\n",
      "\u001b[1;31mKeyboardInterrupt\u001b[0m: "
     ]
    },
    {
     "data": {
      "image/png": "[encoded data removed]",
      "text/plain": [
       "<Figure size 640x480 with 1 Axes>"
      ]
     },
     "metadata": {},
     "output_type": "display_data"
    }
   ],
   "source": [
    "sns.lineplot(data=history_df, x='Mean Generation', y='Mean Max Turning')"
   ]
  },
  {
   "cell_type": "code",
   "execution_count": 6,
   "id": "ef25fd13-2727-4340-8ac0-9b5b0d594b99",
   "metadata": {},
   "outputs": [],
   "source": [
    "rounding = 500\n",
    "history_df_rounded = history_df.copy()\n",
    "history_df_rounded['Mean Generation'] = np.round(history_df['Mean Generation'] / rounding) * rounding \n",
    "history_df_rounded = history_df_rounded.groupby('Mean Generation').mean().reset_index()"
   ]
  },
  {
   "cell_type": "code",
   "execution_count": 7,
   "id": "984eb520-f5ec-4156-8872-6cd558915a5d",
   "metadata": {
    "collapsed": true
   },
   "outputs": [
    {
     "ename": "TypeError",
     "evalue": "ufunc 'isfinite' not supported for the input types, and the inputs could not be safely coerced to any supported types according to the casting rule ''safe''",
     "output_type": "error",
     "traceback": [
      "\u001b[1;31m---------------------------------------------------------------------------\u001b[0m",
      "\u001b[1;31mTypeError\u001b[0m                                 Traceback (most recent call last)",
      "Cell \u001b[1;32mIn[7], line 1\u001b[0m\n\u001b[1;32m----> 1\u001b[0m \u001b[43msns\u001b[49m\u001b[38;5;241;43m.\u001b[39;49m\u001b[43mlineplot\u001b[49m\u001b[43m(\u001b[49m\u001b[43mdata\u001b[49m\u001b[38;5;241;43m=\u001b[39;49m\u001b[43mhistory_df_rounded\u001b[49m\u001b[43m,\u001b[49m\u001b[43m \u001b[49m\u001b[43mx\u001b[49m\u001b[38;5;241;43m=\u001b[39;49m\u001b[38;5;124;43m'\u001b[39;49m\u001b[38;5;124;43mMean Generation\u001b[39;49m\u001b[38;5;124;43m'\u001b[39;49m\u001b[43m,\u001b[49m\u001b[43m \u001b[49m\u001b[43my\u001b[49m\u001b[38;5;241;43m=\u001b[39;49m\u001b[38;5;124;43m'\u001b[39;49m\u001b[38;5;124;43mMean Network Depth\u001b[39;49m\u001b[38;5;124;43m'\u001b[39;49m\u001b[43m)\u001b[49m\n",
      "File \u001b[1;32m~\\miniconda3\\envs\\manim-env\\Lib\\site-packages\\seaborn\\relational.py:645\u001b[0m, in \u001b[0;36mlineplot\u001b[1;34m(data, x, y, hue, size, style, units, palette, hue_order, hue_norm, sizes, size_order, size_norm, dashes, markers, style_order, estimator, errorbar, n_boot, seed, orient, sort, err_style, err_kws, legend, ci, ax, **kwargs)\u001b[0m\n\u001b[0;32m    642\u001b[0m color \u001b[38;5;241m=\u001b[39m kwargs\u001b[38;5;241m.\u001b[39mpop(\u001b[38;5;124m\"\u001b[39m\u001b[38;5;124mcolor\u001b[39m\u001b[38;5;124m\"\u001b[39m, kwargs\u001b[38;5;241m.\u001b[39mpop(\u001b[38;5;124m\"\u001b[39m\u001b[38;5;124mc\u001b[39m\u001b[38;5;124m\"\u001b[39m, \u001b[38;5;28;01mNone\u001b[39;00m))\n\u001b[0;32m    643\u001b[0m kwargs[\u001b[38;5;124m\"\u001b[39m\u001b[38;5;124mcolor\u001b[39m\u001b[38;5;124m\"\u001b[39m] \u001b[38;5;241m=\u001b[39m _default_color(ax\u001b[38;5;241m.\u001b[39mplot, hue, color, kwargs)\n\u001b[1;32m--> 645\u001b[0m \u001b[43mp\u001b[49m\u001b[38;5;241;43m.\u001b[39;49m\u001b[43mplot\u001b[49m\u001b[43m(\u001b[49m\u001b[43max\u001b[49m\u001b[43m,\u001b[49m\u001b[43m \u001b[49m\u001b[43mkwargs\u001b[49m\u001b[43m)\u001b[49m\n\u001b[0;32m    646\u001b[0m \u001b[38;5;28;01mreturn\u001b[39;00m ax\n",
      "File \u001b[1;32m~\\miniconda3\\envs\\manim-env\\Lib\\site-packages\\seaborn\\relational.py:489\u001b[0m, in \u001b[0;36m_LinePlotter.plot\u001b[1;34m(self, ax, kws)\u001b[0m\n\u001b[0;32m    486\u001b[0m \u001b[38;5;28;01mif\u001b[39;00m \u001b[38;5;28mself\u001b[39m\u001b[38;5;241m.\u001b[39merr_style \u001b[38;5;241m==\u001b[39m \u001b[38;5;124m\"\u001b[39m\u001b[38;5;124mband\u001b[39m\u001b[38;5;124m\"\u001b[39m:\n\u001b[0;32m    488\u001b[0m     func \u001b[38;5;241m=\u001b[39m {\u001b[38;5;124m\"\u001b[39m\u001b[38;5;124mx\u001b[39m\u001b[38;5;124m\"\u001b[39m: ax\u001b[38;5;241m.\u001b[39mfill_between, \u001b[38;5;124m\"\u001b[39m\u001b[38;5;124my\u001b[39m\u001b[38;5;124m\"\u001b[39m: ax\u001b[38;5;241m.\u001b[39mfill_betweenx}[orient]\n\u001b[1;32m--> 489\u001b[0m     \u001b[43mfunc\u001b[49m\u001b[43m(\u001b[49m\n\u001b[0;32m    490\u001b[0m \u001b[43m        \u001b[49m\u001b[43msub_data\u001b[49m\u001b[43m[\u001b[49m\u001b[43morient\u001b[49m\u001b[43m]\u001b[49m\u001b[43m,\u001b[49m\n\u001b[0;32m    491\u001b[0m \u001b[43m        \u001b[49m\u001b[43msub_data\u001b[49m\u001b[43m[\u001b[49m\u001b[38;5;124;43mf\u001b[39;49m\u001b[38;5;124;43m\"\u001b[39;49m\u001b[38;5;132;43;01m{\u001b[39;49;00m\u001b[43mother\u001b[49m\u001b[38;5;132;43;01m}\u001b[39;49;00m\u001b[38;5;124;43mmin\u001b[39;49m\u001b[38;5;124;43m\"\u001b[39;49m\u001b[43m]\u001b[49m\u001b[43m,\u001b[49m\u001b[43m \u001b[49m\u001b[43msub_data\u001b[49m\u001b[43m[\u001b[49m\u001b[38;5;124;43mf\u001b[39;49m\u001b[38;5;124;43m\"\u001b[39;49m\u001b[38;5;132;43;01m{\u001b[39;49;00m\u001b[43mother\u001b[49m\u001b[38;5;132;43;01m}\u001b[39;49;00m\u001b[38;5;124;43mmax\u001b[39;49m\u001b[38;5;124;43m\"\u001b[39;49m\u001b[43m]\u001b[49m\u001b[43m,\u001b[49m\n\u001b[0;32m    492\u001b[0m \u001b[43m        \u001b[49m\u001b[43mcolor\u001b[49m\u001b[38;5;241;43m=\u001b[39;49m\u001b[43mline_color\u001b[49m\u001b[43m,\u001b[49m\u001b[43m \u001b[49m\u001b[38;5;241;43m*\u001b[39;49m\u001b[38;5;241;43m*\u001b[39;49m\u001b[43merr_kws\u001b[49m\n\u001b[0;32m    493\u001b[0m \u001b[43m    \u001b[49m\u001b[43m)\u001b[49m\n\u001b[0;32m    495\u001b[0m \u001b[38;5;28;01melif\u001b[39;00m \u001b[38;5;28mself\u001b[39m\u001b[38;5;241m.\u001b[39merr_style \u001b[38;5;241m==\u001b[39m \u001b[38;5;124m\"\u001b[39m\u001b[38;5;124mbars\u001b[39m\u001b[38;5;124m\"\u001b[39m:\n\u001b[0;32m    497\u001b[0m     error_param \u001b[38;5;241m=\u001b[39m {\n\u001b[0;32m    498\u001b[0m         \u001b[38;5;124mf\u001b[39m\u001b[38;5;124m\"\u001b[39m\u001b[38;5;132;01m{\u001b[39;00mother\u001b[38;5;132;01m}\u001b[39;00m\u001b[38;5;124merr\u001b[39m\u001b[38;5;124m\"\u001b[39m: (\n\u001b[0;32m    499\u001b[0m             sub_data[other] \u001b[38;5;241m-\u001b[39m sub_data[\u001b[38;5;124mf\u001b[39m\u001b[38;5;124m\"\u001b[39m\u001b[38;5;132;01m{\u001b[39;00mother\u001b[38;5;132;01m}\u001b[39;00m\u001b[38;5;124mmin\u001b[39m\u001b[38;5;124m\"\u001b[39m],\n\u001b[0;32m    500\u001b[0m             sub_data[\u001b[38;5;124mf\u001b[39m\u001b[38;5;124m\"\u001b[39m\u001b[38;5;132;01m{\u001b[39;00mother\u001b[38;5;132;01m}\u001b[39;00m\u001b[38;5;124mmax\u001b[39m\u001b[38;5;124m\"\u001b[39m] \u001b[38;5;241m-\u001b[39m sub_data[other],\n\u001b[0;32m    501\u001b[0m         )\n\u001b[0;32m    502\u001b[0m     }\n",
      "File \u001b[1;32m~\\miniconda3\\envs\\manim-env\\Lib\\site-packages\\matplotlib\\__init__.py:1423\u001b[0m, in \u001b[0;36m_preprocess_data.<locals>.inner\u001b[1;34m(ax, data, *args, **kwargs)\u001b[0m\n\u001b[0;32m   1420\u001b[0m \u001b[38;5;129m@functools\u001b[39m\u001b[38;5;241m.\u001b[39mwraps(func)\n\u001b[0;32m   1421\u001b[0m \u001b[38;5;28;01mdef\u001b[39;00m \u001b[38;5;21minner\u001b[39m(ax, \u001b[38;5;241m*\u001b[39margs, data\u001b[38;5;241m=\u001b[39m\u001b[38;5;28;01mNone\u001b[39;00m, \u001b[38;5;241m*\u001b[39m\u001b[38;5;241m*\u001b[39mkwargs):\n\u001b[0;32m   1422\u001b[0m     \u001b[38;5;28;01mif\u001b[39;00m data \u001b[38;5;129;01mis\u001b[39;00m \u001b[38;5;28;01mNone\u001b[39;00m:\n\u001b[1;32m-> 1423\u001b[0m         \u001b[38;5;28;01mreturn\u001b[39;00m \u001b[43mfunc\u001b[49m\u001b[43m(\u001b[49m\u001b[43max\u001b[49m\u001b[43m,\u001b[49m\u001b[43m \u001b[49m\u001b[38;5;241;43m*\u001b[39;49m\u001b[38;5;28;43mmap\u001b[39;49m\u001b[43m(\u001b[49m\u001b[43msanitize_sequence\u001b[49m\u001b[43m,\u001b[49m\u001b[43m \u001b[49m\u001b[43margs\u001b[49m\u001b[43m)\u001b[49m\u001b[43m,\u001b[49m\u001b[43m \u001b[49m\u001b[38;5;241;43m*\u001b[39;49m\u001b[38;5;241;43m*\u001b[39;49m\u001b[43mkwargs\u001b[49m\u001b[43m)\u001b[49m\n\u001b[0;32m   1425\u001b[0m     bound \u001b[38;5;241m=\u001b[39m new_sig\u001b[38;5;241m.\u001b[39mbind(ax, \u001b[38;5;241m*\u001b[39margs, \u001b[38;5;241m*\u001b[39m\u001b[38;5;241m*\u001b[39mkwargs)\n\u001b[0;32m   1426\u001b[0m     auto_label \u001b[38;5;241m=\u001b[39m (bound\u001b[38;5;241m.\u001b[39marguments\u001b[38;5;241m.\u001b[39mget(label_namer)\n\u001b[0;32m   1427\u001b[0m                   \u001b[38;5;129;01mor\u001b[39;00m bound\u001b[38;5;241m.\u001b[39mkwargs\u001b[38;5;241m.\u001b[39mget(label_namer))\n",
      "File \u001b[1;32m~\\miniconda3\\envs\\manim-env\\Lib\\site-packages\\matplotlib\\axes\\_axes.py:5367\u001b[0m, in \u001b[0;36mAxes.fill_between\u001b[1;34m(self, x, y1, y2, where, interpolate, step, **kwargs)\u001b[0m\n\u001b[0;32m   5365\u001b[0m \u001b[38;5;28;01mdef\u001b[39;00m \u001b[38;5;21mfill_between\u001b[39m(\u001b[38;5;28mself\u001b[39m, x, y1, y2\u001b[38;5;241m=\u001b[39m\u001b[38;5;241m0\u001b[39m, where\u001b[38;5;241m=\u001b[39m\u001b[38;5;28;01mNone\u001b[39;00m, interpolate\u001b[38;5;241m=\u001b[39m\u001b[38;5;28;01mFalse\u001b[39;00m,\n\u001b[0;32m   5366\u001b[0m                  step\u001b[38;5;241m=\u001b[39m\u001b[38;5;28;01mNone\u001b[39;00m, \u001b[38;5;241m*\u001b[39m\u001b[38;5;241m*\u001b[39mkwargs):\n\u001b[1;32m-> 5367\u001b[0m     \u001b[38;5;28;01mreturn\u001b[39;00m \u001b[38;5;28;43mself\u001b[39;49m\u001b[38;5;241;43m.\u001b[39;49m\u001b[43m_fill_between_x_or_y\u001b[49m\u001b[43m(\u001b[49m\n\u001b[0;32m   5368\u001b[0m \u001b[43m        \u001b[49m\u001b[38;5;124;43m\"\u001b[39;49m\u001b[38;5;124;43mx\u001b[39;49m\u001b[38;5;124;43m\"\u001b[39;49m\u001b[43m,\u001b[49m\u001b[43m \u001b[49m\u001b[43mx\u001b[49m\u001b[43m,\u001b[49m\u001b[43m \u001b[49m\u001b[43my1\u001b[49m\u001b[43m,\u001b[49m\u001b[43m \u001b[49m\u001b[43my2\u001b[49m\u001b[43m,\u001b[49m\n\u001b[0;32m   5369\u001b[0m \u001b[43m        \u001b[49m\u001b[43mwhere\u001b[49m\u001b[38;5;241;43m=\u001b[39;49m\u001b[43mwhere\u001b[49m\u001b[43m,\u001b[49m\u001b[43m \u001b[49m\u001b[43minterpolate\u001b[49m\u001b[38;5;241;43m=\u001b[39;49m\u001b[43minterpolate\u001b[49m\u001b[43m,\u001b[49m\u001b[43m \u001b[49m\u001b[43mstep\u001b[49m\u001b[38;5;241;43m=\u001b[39;49m\u001b[43mstep\u001b[49m\u001b[43m,\u001b[49m\u001b[43m \u001b[49m\u001b[38;5;241;43m*\u001b[39;49m\u001b[38;5;241;43m*\u001b[39;49m\u001b[43mkwargs\u001b[49m\u001b[43m)\u001b[49m\n",
      "File \u001b[1;32m~\\miniconda3\\envs\\manim-env\\Lib\\site-packages\\matplotlib\\axes\\_axes.py:5272\u001b[0m, in \u001b[0;36mAxes._fill_between_x_or_y\u001b[1;34m(self, ind_dir, ind, dep1, dep2, where, interpolate, step, **kwargs)\u001b[0m\n\u001b[0;32m   5268\u001b[0m         kwargs[\u001b[38;5;124m\"\u001b[39m\u001b[38;5;124mfacecolor\u001b[39m\u001b[38;5;124m\"\u001b[39m] \u001b[38;5;241m=\u001b[39m \\\n\u001b[0;32m   5269\u001b[0m             \u001b[38;5;28mself\u001b[39m\u001b[38;5;241m.\u001b[39m_get_patches_for_fill\u001b[38;5;241m.\u001b[39mget_next_color()\n\u001b[0;32m   5271\u001b[0m \u001b[38;5;66;03m# Handle united data, such as dates\u001b[39;00m\n\u001b[1;32m-> 5272\u001b[0m ind, dep1, dep2 \u001b[38;5;241m=\u001b[39m \u001b[38;5;28mmap\u001b[39m(\n\u001b[0;32m   5273\u001b[0m     ma\u001b[38;5;241m.\u001b[39mmasked_invalid, \u001b[38;5;28mself\u001b[39m\u001b[38;5;241m.\u001b[39m_process_unit_info(\n\u001b[0;32m   5274\u001b[0m         [(ind_dir, ind), (dep_dir, dep1), (dep_dir, dep2)], kwargs))\n\u001b[0;32m   5276\u001b[0m \u001b[38;5;28;01mfor\u001b[39;00m name, array \u001b[38;5;129;01min\u001b[39;00m [\n\u001b[0;32m   5277\u001b[0m         (ind_dir, ind), (\u001b[38;5;124mf\u001b[39m\u001b[38;5;124m\"\u001b[39m\u001b[38;5;132;01m{\u001b[39;00mdep_dir\u001b[38;5;132;01m}\u001b[39;00m\u001b[38;5;124m1\u001b[39m\u001b[38;5;124m\"\u001b[39m, dep1), (\u001b[38;5;124mf\u001b[39m\u001b[38;5;124m\"\u001b[39m\u001b[38;5;132;01m{\u001b[39;00mdep_dir\u001b[38;5;132;01m}\u001b[39;00m\u001b[38;5;124m2\u001b[39m\u001b[38;5;124m\"\u001b[39m, dep2)]:\n\u001b[0;32m   5278\u001b[0m     \u001b[38;5;28;01mif\u001b[39;00m array\u001b[38;5;241m.\u001b[39mndim \u001b[38;5;241m>\u001b[39m \u001b[38;5;241m1\u001b[39m:\n",
      "File \u001b[1;32m~\\miniconda3\\envs\\manim-env\\Lib\\site-packages\\numpy\\ma\\core.py:2360\u001b[0m, in \u001b[0;36mmasked_invalid\u001b[1;34m(a, copy)\u001b[0m\n\u001b[0;32m   2332\u001b[0m \u001b[38;5;28;01mdef\u001b[39;00m \u001b[38;5;21mmasked_invalid\u001b[39m(a, copy\u001b[38;5;241m=\u001b[39m\u001b[38;5;28;01mTrue\u001b[39;00m):\n\u001b[0;32m   2333\u001b[0m     \u001b[38;5;124;03m\"\"\"\u001b[39;00m\n\u001b[0;32m   2334\u001b[0m \u001b[38;5;124;03m    Mask an array where invalid values occur (NaNs or infs).\u001b[39;00m\n\u001b[0;32m   2335\u001b[0m \n\u001b[1;32m   (...)\u001b[0m\n\u001b[0;32m   2357\u001b[0m \n\u001b[0;32m   2358\u001b[0m \u001b[38;5;124;03m    \"\"\"\u001b[39;00m\n\u001b[1;32m-> 2360\u001b[0m     \u001b[38;5;28;01mreturn\u001b[39;00m masked_where(\u001b[38;5;241m~\u001b[39m(\u001b[43mnp\u001b[49m\u001b[38;5;241;43m.\u001b[39;49m\u001b[43misfinite\u001b[49m\u001b[43m(\u001b[49m\u001b[43mgetdata\u001b[49m\u001b[43m(\u001b[49m\u001b[43ma\u001b[49m\u001b[43m)\u001b[49m\u001b[43m)\u001b[49m), a, copy\u001b[38;5;241m=\u001b[39mcopy)\n",
      "\u001b[1;31mTypeError\u001b[0m: ufunc 'isfinite' not supported for the input types, and the inputs could not be safely coerced to any supported types according to the casting rule ''safe''"
     ]
    },
    {
     "data": {
      "image/png": "[encoded data removed]",
      "text/plain": [
       "<Figure size 640x480 with 1 Axes>"
      ]
     },
     "metadata": {},
     "output_type": "display_data"
    }
   ],
   "source": [
    "sns.lineplot(data=history_df_rounded, x='Mean Generation', y='Mean Network Depth')"
   ]
  },
  {
   "cell_type": "code",
   "execution_count": 114,
   "id": "41b13a7f",
   "metadata": {},
   "outputs": [],
   "source": [
    "import numpy as np"
   ]
  },
  {
   "cell_type": "code",
   "execution_count": 179,
   "id": "469fb6ca-2e12-4a05-9d69-3e7d03dd3814",
   "metadata": {},
   "outputs": [],
   "source": [
    "@np.vectorize\n",
    "def compute_haldane(trait_var1, trait_mean1, pop1, t1, trait_var2, trait_mean2, pop2, t2):\n",
    "    ln_mu1 = trait_mean1\n",
    "    ln_mu2 = trait_mean2\n",
    "    ln_sd1 = np.sqrt(trait_var1)\n",
    "    ln_sd2 = np.sqrt(trait_var2)\n",
    "    pooled_sd = ((pop1 - 1) * ln_sd1 + (pop2 - 1) * ln_sd2) / (pop1 + pop2)\n",
    "    return (ln_mu2 - ln_mu1) / (pooled_sd * (t2 - t1))"
   ]
  },
  {
   "cell_type": "code",
   "execution_count": 180,
   "id": "0810cd7a-2b73-48ba-8038-831aac84433e",
   "metadata": {},
   "outputs": [
    {
     "data": {
      "text/html": [
       "<div>\n",
       "<style scoped>\n",
       "    .dataframe tbody tr th:only-of-type {\n",
       "        vertical-align: middle;\n",
       "    }\n",
       "\n",
       "    .dataframe tbody tr th {\n",
       "        vertical-align: top;\n",
       "    }\n",
       "\n",
       "    .dataframe thead th {\n",
       "        text-align: right;\n",
       "    }\n",
       "</style>\n",
       "<table border=\"1\" class=\"dataframe\">\n",
       "  <thead>\n",
       "    <tr style=\"text-align: right;\">\n",
       "      <th></th>\n",
       "      <th>Mean Generation</th>\n",
       "      <th>Crossover Events</th>\n",
       "      <th>Max Generation</th>\n",
       "      <th>Mean Age</th>\n",
       "      <th>Mean Available Energy</th>\n",
       "      <th>Mean Construction Mass</th>\n",
       "      <th>Mean Death Rate</th>\n",
       "      <th>Mean Genetic Size</th>\n",
       "      <th>Mean Growth Rate</th>\n",
       "      <th>Mean Has Mated</th>\n",
       "      <th>...</th>\n",
       "      <th>Haldanes Meat Digestion Rate</th>\n",
       "      <th>Haldanes Mutations</th>\n",
       "      <th>Haldanes Network Depth</th>\n",
       "      <th>Haldanes Network Size</th>\n",
       "      <th>Haldanes Plant Digestion Rate</th>\n",
       "      <th>Haldanes Retinal Production</th>\n",
       "      <th>Haldanes Size</th>\n",
       "      <th>Haldanes Speed</th>\n",
       "      <th>Haldanes Split Radius</th>\n",
       "      <th>Haldanes Total Mass</th>\n",
       "    </tr>\n",
       "  </thead>\n",
       "  <tbody>\n",
       "    <tr>\n",
       "      <th>0</th>\n",
       "      <td>0.0</td>\n",
       "      <td>29810.582477</td>\n",
       "      <td>154.141121</td>\n",
       "      <td>2195.009651</td>\n",
       "      <td>265759.252506</td>\n",
       "      <td>0.019254</td>\n",
       "      <td>0.132371</td>\n",
       "      <td>1.254953</td>\n",
       "      <td>8.061753</td>\n",
       "      <td>0.341415</td>\n",
       "      <td>...</td>\n",
       "      <td>0.000000</td>\n",
       "      <td>0.000000</td>\n",
       "      <td>0.000000</td>\n",
       "      <td>0.000000</td>\n",
       "      <td>0.000000</td>\n",
       "      <td>0.000000e+00</td>\n",
       "      <td>0.000000</td>\n",
       "      <td>0.000000</td>\n",
       "      <td>0.000000</td>\n",
       "      <td>0.000000</td>\n",
       "    </tr>\n",
       "    <tr>\n",
       "      <th>1</th>\n",
       "      <td>500.0</td>\n",
       "      <td>146240.132802</td>\n",
       "      <td>520.891947</td>\n",
       "      <td>2286.956111</td>\n",
       "      <td>250277.900462</td>\n",
       "      <td>0.017023</td>\n",
       "      <td>0.132248</td>\n",
       "      <td>1.256406</td>\n",
       "      <td>7.885894</td>\n",
       "      <td>0.371164</td>\n",
       "      <td>...</td>\n",
       "      <td>0.000226</td>\n",
       "      <td>0.027015</td>\n",
       "      <td>0.000390</td>\n",
       "      <td>0.001513</td>\n",
       "      <td>-0.000243</td>\n",
       "      <td>-1.795774e-04</td>\n",
       "      <td>-0.000022</td>\n",
       "      <td>-0.000102</td>\n",
       "      <td>-0.000239</td>\n",
       "      <td>-0.000178</td>\n",
       "    </tr>\n",
       "    <tr>\n",
       "      <th>2</th>\n",
       "      <td>1000.0</td>\n",
       "      <td>280008.019696</td>\n",
       "      <td>1058.690765</td>\n",
       "      <td>2242.254965</td>\n",
       "      <td>223313.020946</td>\n",
       "      <td>0.015748</td>\n",
       "      <td>0.130071</td>\n",
       "      <td>1.259210</td>\n",
       "      <td>7.975046</td>\n",
       "      <td>0.246567</td>\n",
       "      <td>...</td>\n",
       "      <td>0.000359</td>\n",
       "      <td>0.022150</td>\n",
       "      <td>-0.000223</td>\n",
       "      <td>0.003933</td>\n",
       "      <td>-0.000328</td>\n",
       "      <td>-3.523538e-05</td>\n",
       "      <td>-0.000092</td>\n",
       "      <td>-0.000075</td>\n",
       "      <td>-0.000297</td>\n",
       "      <td>-0.000040</td>\n",
       "    </tr>\n",
       "    <tr>\n",
       "      <th>3</th>\n",
       "      <td>1500.0</td>\n",
       "      <td>368592.964627</td>\n",
       "      <td>1552.968723</td>\n",
       "      <td>2197.486316</td>\n",
       "      <td>241112.954436</td>\n",
       "      <td>0.016262</td>\n",
       "      <td>0.129221</td>\n",
       "      <td>1.272754</td>\n",
       "      <td>8.123139</td>\n",
       "      <td>0.151208</td>\n",
       "      <td>...</td>\n",
       "      <td>-0.001052</td>\n",
       "      <td>0.020629</td>\n",
       "      <td>0.000532</td>\n",
       "      <td>0.000371</td>\n",
       "      <td>0.000875</td>\n",
       "      <td>1.440315e-07</td>\n",
       "      <td>-0.000052</td>\n",
       "      <td>0.000061</td>\n",
       "      <td>-0.000062</td>\n",
       "      <td>-0.000002</td>\n",
       "    </tr>\n",
       "    <tr>\n",
       "      <th>4</th>\n",
       "      <td>2000.0</td>\n",
       "      <td>419948.324049</td>\n",
       "      <td>2149.902277</td>\n",
       "      <td>2151.147203</td>\n",
       "      <td>255217.912745</td>\n",
       "      <td>0.017022</td>\n",
       "      <td>0.130204</td>\n",
       "      <td>1.259141</td>\n",
       "      <td>8.108766</td>\n",
       "      <td>0.077454</td>\n",
       "      <td>...</td>\n",
       "      <td>-0.000221</td>\n",
       "      <td>0.012889</td>\n",
       "      <td>0.000865</td>\n",
       "      <td>0.000741</td>\n",
       "      <td>0.000203</td>\n",
       "      <td>-2.012371e-05</td>\n",
       "      <td>0.000027</td>\n",
       "      <td>0.000072</td>\n",
       "      <td>0.000142</td>\n",
       "      <td>-0.000018</td>\n",
       "    </tr>\n",
       "  </tbody>\n",
       "</table>\n",
       "<p>5 rows × 91 columns</p>\n",
       "</div>"
      ],
      "text/plain": [
       "   Mean Generation  Crossover Events  Max Generation     Mean Age  \\\n",
       "0              0.0      29810.582477      154.141121  2195.009651   \n",
       "1            500.0     146240.132802      520.891947  2286.956111   \n",
       "2           1000.0     280008.019696     1058.690765  2242.254965   \n",
       "3           1500.0     368592.964627     1552.968723  2197.486316   \n",
       "4           2000.0     419948.324049     2149.902277  2151.147203   \n",
       "\n",
       "   Mean Available Energy  Mean Construction Mass  Mean Death Rate  \\\n",
       "0          265759.252506                0.019254         0.132371   \n",
       "1          250277.900462                0.017023         0.132248   \n",
       "2          223313.020946                0.015748         0.130071   \n",
       "3          241112.954436                0.016262         0.129221   \n",
       "4          255217.912745                0.017022         0.130204   \n",
       "\n",
       "   Mean Genetic Size  Mean Growth Rate  Mean Has Mated  ...  \\\n",
       "0           1.254953          8.061753        0.341415  ...   \n",
       "1           1.256406          7.885894        0.371164  ...   \n",
       "2           1.259210          7.975046        0.246567  ...   \n",
       "3           1.272754          8.123139        0.151208  ...   \n",
       "4           1.259141          8.108766        0.077454  ...   \n",
       "\n",
       "   Haldanes Meat Digestion Rate  Haldanes Mutations  Haldanes Network Depth  \\\n",
       "0                      0.000000            0.000000                0.000000   \n",
       "1                      0.000226            0.027015                0.000390   \n",
       "2                      0.000359            0.022150               -0.000223   \n",
       "3                     -0.001052            0.020629                0.000532   \n",
       "4                     -0.000221            0.012889                0.000865   \n",
       "\n",
       "   Haldanes Network Size  Haldanes Plant Digestion Rate  \\\n",
       "0               0.000000                       0.000000   \n",
       "1               0.001513                      -0.000243   \n",
       "2               0.003933                      -0.000328   \n",
       "3               0.000371                       0.000875   \n",
       "4               0.000741                       0.000203   \n",
       "\n",
       "   Haldanes Retinal Production  Haldanes Size  Haldanes Speed  \\\n",
       "0                 0.000000e+00       0.000000        0.000000   \n",
       "1                -1.795774e-04      -0.000022       -0.000102   \n",
       "2                -3.523538e-05      -0.000092       -0.000075   \n",
       "3                 1.440315e-07      -0.000052        0.000061   \n",
       "4                -2.012371e-05       0.000027        0.000072   \n",
       "\n",
       "   Haldanes Split Radius  Haldanes Total Mass  \n",
       "0               0.000000             0.000000  \n",
       "1              -0.000239            -0.000178  \n",
       "2              -0.000297            -0.000040  \n",
       "3              -0.000062            -0.000002  \n",
       "4               0.000142            -0.000018  \n",
       "\n",
       "[5 rows x 91 columns]"
      ]
     },
     "execution_count": 180,
     "metadata": {},
     "output_type": "execute_result"
    }
   ],
   "source": [
    "df = history_df_rounded.copy()\n",
    "for feature in features:\n",
    "    haldanes = compute_haldane(\n",
    "        np.array(df[f'Var {feature}'][:-1]),\n",
    "        np.array(df[f'Mean {feature}'][:-1]),\n",
    "        np.array(df[f'Protozoa'][:-1]),\n",
    "        np.array(df[f'Mean Generation'][:-1]),\n",
    "        np.array(df[f'Var {feature}'][1:]),\n",
    "        np.array(df[f'Mean {feature}'][1:]),\n",
    "        np.array(df[f'Protozoa'][1:]),\n",
    "        np.array(df[f'Mean Generation'][1:])\n",
    "    )\n",
    "    df[f'Haldanes {feature}'] = np.concatenate([[0], haldanes])\n",
    "df.head()"
   ]
  },
  {
   "cell_type": "code",
   "execution_count": 181,
   "id": "4d01fe98",
   "metadata": {},
   "outputs": [
    {
     "data": {
      "text/plain": [
       "0.0"
      ]
     },
     "execution_count": 181,
     "metadata": {},
     "output_type": "execute_result"
    }
   ],
   "source": [
    "df['Mean Generation'][0]"
   ]
  },
  {
   "cell_type": "code",
   "execution_count": 182,
   "id": "61be6f5c",
   "metadata": {},
   "outputs": [
    {
     "data": {
      "text/plain": [
       "20"
      ]
     },
     "execution_count": 182,
     "metadata": {},
     "output_type": "execute_result"
    }
   ],
   "source": [
    "df[f'Mean Generation'].size"
   ]
  },
  {
   "cell_type": "code",
   "execution_count": 183,
   "id": "6d296d4c",
   "metadata": {},
   "outputs": [],
   "source": [
    "n = df[f'Mean Generation'].size - 1\n",
    "haldanes = {\n",
    "    feature: 1e5 * h\n",
    "    for feature in features\n",
    "    if 1e-7 < (h := float(compute_haldane(\n",
    "        np.array(df[f'Var {feature}'][0]),\n",
    "        np.array(df[f'Mean {feature}'][0]),\n",
    "        np.array(df[f'Protozoa'][0]),\n",
    "        np.array(df[f'Mean Generation'][0]),\n",
    "        np.array(df[f'Var {feature}'][n]),\n",
    "        np.array(df[f'Mean {feature}'][n]),\n",
    "        np.array(df[f'Protozoa'][n]),\n",
    "        np.array(df[f'Mean Generation'][n])\n",
    "    )))\n",
    "}"
   ]
  },
  {
   "cell_type": "code",
   "execution_count": 184,
   "id": "34f0f121",
   "metadata": {},
   "outputs": [],
   "source": [
    "interesting_features = [\n",
    "    'Genetic Size', 'Network Depth', 'Network Size', \n",
    "    'Max Turning', 'Herbivore Factor'\n",
    "]"
   ]
  },
  {
   "cell_type": "code",
   "execution_count": 185,
   "id": "d44bb561",
   "metadata": {},
   "outputs": [],
   "source": [
    "n = df[f'Mean Generation'].size - 1\n",
    "haldanes = {\n",
    "    feature: 1e6 * float(compute_haldane(\n",
    "        np.array(df[f'Var {feature}'][0]),\n",
    "        np.array(df[f'Mean {feature}'][0]),\n",
    "        np.array(df[f'Protozoa'][0]),\n",
    "        np.array(df[f'Mean Generation'][0]),\n",
    "        np.array(df[f'Var {feature}'][n]),\n",
    "        np.array(df[f'Mean {feature}'][n]),\n",
    "        np.array(df[f'Protozoa'][n]),\n",
    "        np.array(df[f'Mean Generation'][n])\n",
    "    ))\n",
    "    for feature in interesting_features \n",
    "}"
   ]
  },
  {
   "cell_type": "code",
   "execution_count": 187,
   "id": "37064898",
   "metadata": {},
   "outputs": [
    {
     "data": {
      "text/plain": [
       "{'Genetic Size': -0.32114668589321027,\n",
       " 'Network Depth': 481.72918518514825,\n",
       " 'Network Size': 733.6560342218905,\n",
       " 'Max Turning': 102.10809276300078,\n",
       " 'Herbivore Factor': -13.077873838174893}"
      ]
     },
     "execution_count": 187,
     "metadata": {},
     "output_type": "execute_result"
    }
   ],
   "source": [
    "haldanes"
   ]
  },
  {
   "cell_type": "code",
   "execution_count": 129,
   "id": "b8b856e7",
   "metadata": {},
   "outputs": [
    {
     "name": "stderr",
     "output_type": "stream",
     "text": [
      "                                                                                                                       \r"
     ]
    },
    {
     "data": {
      "text/html": [
       "<video src=\"media\\jupyter\\BarChartExample@2022-12-21@01-31-32.mp4\" controls autoplay loop style=\"max-width: 75%;\"  >\n",
       "      Your browser does not support the <code>video</code> element.\n",
       "    </video>"
      ],
      "text/plain": [
       "<IPython.core.display.Video object>"
      ]
     },
     "metadata": {},
     "output_type": "display_data"
    }
   ],
   "source": [
    "%%manim -ql BarChartExample\n",
    "\n",
    "class BarChartExample(Scene):\n",
    "    def construct(self):\n",
    "        min_y = min(list(haldanes.values()))\n",
    "        max_y = max(list(haldanes.values()))\n",
    "\n",
    "        chart = BarChart(\n",
    "            values=[round(v, 1) for v in haldanes.values()],\n",
    "#             values=[0 for _ in haldanes.values()],\n",
    "            bar_names=[name.replace(' ', r'\\\\') for name in haldanes.keys()],\n",
    "#             y_range=[round(min_y, 0), round(max_y, 0), (max_y - min_y) / 10],\n",
    "            y_length=6,\n",
    "            x_length=10,\n",
    "            x_axis_config={\"font_size\": 36},\n",
    "        )\n",
    "\n",
    "        c_bar_lbls = chart.get_bar_labels(font_size=48)\n",
    "\n",
    "        self.play(Write(chart), Write(c_bar_lbls), run_time=3, rate_func=rate_functions.smooth)\n",
    "        \n",
    "#         chart.change_bar_values(reversed([round(v, 1) for v in haldanes.values()]))"
   ]
  },
  {
   "cell_type": "code",
   "execution_count": 195,
   "id": "03628c01",
   "metadata": {},
   "outputs": [
    {
     "name": "stderr",
     "output_type": "stream",
     "text": [
      "                                                                                                                       \r"
     ]
    },
    {
     "data": {
      "text/html": [
       "<video src=\"media\\jupyter\\HaldaneBar@2022-12-21@02-40-16.mp4\" controls autoplay loop style=\"max-width: 75%;\"  >\n",
       "      Your browser does not support the <code>video</code> element.\n",
       "    </video>"
      ],
      "text/plain": [
       "<IPython.core.display.Video object>"
      ]
     },
     "metadata": {},
     "output_type": "display_data"
    }
   ],
   "source": [
    "%%manim HaldaneBar\n",
    "\n",
    "class HaldaneBar(Scene):\n",
    "    def construct(self):\n",
    "        min_y = min(list(haldanes.values()))\n",
    "        max_y = max(list(haldanes.values()))\n",
    "\n",
    "        sorted_traits = sorted(haldanes, key=haldanes.get)\n",
    "        \n",
    "        chart = BarChart(\n",
    "            values=[haldanes[trait] for trait in sorted_traits],\n",
    "            bar_names=[trait.replace(' ', r'\\\\') for trait in sorted_traits],\n",
    "            y_range=[min(0, min_y), max(0, max_y), round(max_y / 6, 2)],\n",
    "            y_length=6, x_length=10,\n",
    "            x_axis_config={\"font_size\": 36},\n",
    "        )\n",
    "        chart.change_bar_values([0] * len(haldanes.values()))\n",
    "\n",
    "        c_bar_lbls = chart.get_bar_labels(font_size=48)\n",
    "\n",
    "        self.play(Write(chart), run_time=3)\n",
    "\n",
    "        for i in range(len(sorted_traits)):\n",
    "            values = [\n",
    "                round(haldanes[trait], 1) if j <= i else 0\n",
    "                for j, trait in enumerate(sorted_traits)\n",
    "            ]\n",
    "            self.play(chart.animate.change_bar_values(values))\n",
    "            self.play(Write(chart.get_bar_labels(font_size=48)[i]))"
   ]
  },
  {
   "cell_type": "code",
   "execution_count": 155,
   "id": "e96123f2",
   "metadata": {},
   "outputs": [
    {
     "data": {
      "text/plain": [
       "BarChart(VGroup of 11 submobjects, NumberLine, NumberLine)"
      ]
     },
     "execution_count": 155,
     "metadata": {},
     "output_type": "execute_result"
    }
   ],
   "source": [
    "values_target=[-10, -8, -6, -4, -2, 0, 2, 4, 6, 8, 10]\n",
    "\n",
    "chart = BarChart(\n",
    "    [0] * len(values_target),\n",
    "    y_range=[-10, 10, 2],\n",
    "    y_axis_config={\"font_size\": 24},\n",
    ")"
   ]
  },
  {
   "cell_type": "code",
   "execution_count": 153,
   "id": "1b5e8734",
   "metadata": {},
   "outputs": [
    {
     "name": "stderr",
     "output_type": "stream",
     "text": [
      "                                                                                                                       \r"
     ]
    },
    {
     "data": {
      "text/html": [
       "<video src=\"media\\jupyter\\ChangeBarValuesExample@2022-12-21@02-00-19.mp4\" controls autoplay loop style=\"max-width: 75%;\"  >\n",
       "      Your browser does not support the <code>video</code> element.\n",
       "    </video>"
      ],
      "text/plain": [
       "<IPython.core.display.Video object>"
      ]
     },
     "metadata": {},
     "output_type": "display_data"
    }
   ],
   "source": [
    "%%manim -ql ChangeBarValuesExample \n",
    "\n",
    "class ChangeBarValuesExample(Scene):\n",
    "    def construct(self):\n",
    "        values_target=[-10, -8, -6, -4, -2, 0, 2, 4, 6, 8, 10]\n",
    "\n",
    "        chart = BarChart(\n",
    "            [0] * len(values_target),\n",
    "            y_range=[-10, 10, 2],\n",
    "            y_axis_config={\"font_size\": 24},\n",
    "        )\n",
    "        self.add(chart)\n",
    "#         self.play(chart.animate.change_bar_values(values))\n",
    "        \n",
    "        for i, val in enumerate(values_target):\n",
    "            values = [v if j <= i else 0 for j, v in enumerate(values_target)]\n",
    "            self.play(chart.animate.change_bar_values(values))\n",
    "            self.play(Write(chart.get_bar_labels()[i]))"
   ]
  },
  {
   "cell_type": "code",
   "execution_count": 14,
   "id": "2b32af26-d93a-4d58-b2ad-18ba2a94cfcc",
   "metadata": {},
   "outputs": [
    {
     "data": {
      "image/png": "[encoded data removed]",
      "text/plain": [
       "<Figure size 1080x648 with 1 Axes>"
      ]
     },
     "metadata": {},
     "output_type": "display_data"
    }
   ],
   "source": [
    "plt.figure(figsize=(15, 9))\n",
    "for feature in ['Genetic Size', 'Network Depth', 'Network Size', 'Max Turning', 'Herbivore Factor']:\n",
    "    sns.lineplot(data=df, x='Mean Generation', y=f'Haldanes {feature}', label=feature)\n",
    "    \n",
    "plt.title('Evolutionary Change')\n",
    "plt.ylabel('Haldanes')\n",
    "plt.legend(bbox_to_anchor=(1.01, 1), loc='upper left')\n",
    "plt.show()"
   ]
  },
  {
   "cell_type": "code",
   "execution_count": 77,
   "id": "0579e273-c376-4d92-91dc-4214842bc966",
   "metadata": {},
   "outputs": [
    {
     "data": {
      "text/plain": [
       "<matplotlib.legend.Legend at 0x7fbbc9f17f70>"
      ]
     },
     "execution_count": 77,
     "metadata": {},
     "output_type": "execute_result"
    },
    {
     "data": {
      "image/png": "[encoded data removed]",
      "text/plain": [
       "<Figure size 1080x648 with 1 Axes>"
      ]
     },
     "metadata": {},
     "output_type": "display_data"
    }
   ],
   "source": [
    "df_normed = df.copy()\n",
    "cols = ['Haldanes Network Depth', 'Mean Network Depth']\n",
    "# for col in cols:\n",
    "#     df_normed[col] /= df_normed[col].max()\n",
    "\n",
    "df_normed['Haldanes Network Depth'] *= 100\n",
    "\n",
    "plt.figure(figsize=(15, 9))\n",
    "for col in cols:\n",
    "    sns.lineplot(data=df_normed, x='Mean Generation', y=col, label=col)\n",
    "\n",
    "plt.ylabel('Normalised Values')\n",
    "plt.xlabel('Generations')\n",
    "plt.legend()"
   ]
  },
  {
   "cell_type": "code",
   "execution_count": 196,
   "id": "b271e73a-0e79-47bc-9aee-d7e123424a56",
   "metadata": {},
   "outputs": [
    {
     "name": "stderr",
     "output_type": "stream",
     "text": [
      "C:\\Users\\dylan\\AppData\\Local\\Temp\\ipykernel_22384\\3425040228.py:10: SettingWithCopyWarning: \n",
      "A value is trying to be set on a copy of a slice from a DataFrame.\n",
      "Try using .loc[row_indexer,col_indexer] = value instead\n",
      "\n",
      "See the caveats in the documentation: https://pandas.pydata.org/pandas-docs/stable/user_guide/indexing.html#returning-a-view-versus-a-copy\n",
      "  animate_df[f'Var {feat}'] = animate_df[f'Var {feat}'].apply(lambda x: max(0.01, x))\n"
     ]
    }
   ],
   "source": [
    "# feat = 'Herbivore Factor'\n",
    "feat = 'Genetic Size'\n",
    "# feat = 'Network Depth'\n",
    "\n",
    "animate_df = history_df_rounded[['Mean Generation', f'Mean {feat}', f'Var {feat}', 'Protozoa']]\n",
    "\n",
    "min_trait = max(0, animate_df[f'Mean {feat}'].min() - 2 * np.sqrt(animate_df[f'Var {feat}'].max()))\n",
    "max_trait = animate_df[f'Mean {feat}'].max() + 2 * np.sqrt(animate_df[f'Var {feat}'].max())\n",
    "\n",
    "animate_df[f'Var {feat}'] = animate_df[f'Var {feat}'].apply(lambda x: max(0.01, x))"
   ]
  },
  {
   "cell_type": "code",
   "execution_count": 197,
   "id": "5bddd8bb-62b7-4020-a8ec-b9b0d1f0c503",
   "metadata": {},
   "outputs": [
    {
     "data": {
      "image/png": "[encoded data removed]",
      "text/plain": [
       "<Figure size 640x480 with 1 Axes>"
      ]
     },
     "metadata": {},
     "output_type": "display_data"
    }
   ],
   "source": [
    "plt.plot(animate_df['Mean Generation'], animate_df[f'Var {feat}'])\n",
    "plt.show()"
   ]
  },
  {
   "cell_type": "code",
   "execution_count": 190,
   "id": "a40c6776-d19e-44f4-8df5-94b0ad89d354",
   "metadata": {},
   "outputs": [],
   "source": [
    "import numpy as np\n",
    "import itertools"
   ]
  },
  {
   "cell_type": "code",
   "execution_count": 191,
   "id": "8ffc47d3-6f24-45b6-b1ce-5cd56fd1016f",
   "metadata": {},
   "outputs": [
    {
     "name": "stderr",
     "output_type": "stream",
     "text": [
      "                                                                                                                       \r"
     ]
    },
    {
     "data": {
      "text/html": [
       "<video src=\"media\\jupyter\\EvoChangeAnimFromData@2022-12-21@02-31-47.mp4\" controls autoplay loop style=\"max-width: 75%;\"  >\n",
       "      Your browser does not support the <code>video</code> element.\n",
       "    </video>"
      ],
      "text/plain": [
       "<IPython.core.display.Video object>"
      ]
     },
     "metadata": {},
     "output_type": "display_data"
    }
   ],
   "source": [
    "%%manim EvoChangeAnimFromData\n",
    "\n",
    "\n",
    "class EvoChangeAnimFromData(Scene):\n",
    "    \n",
    "    def construct(self):\n",
    "        \n",
    "        max_y = max([\n",
    "            PDF_normal(row[f'Mean {feat}'], row[f'Mean {feat}'], max(0.05, np.sqrt(row[f'Var {feat}'])))\n",
    "            for _, row in animate_df.iterrows()\n",
    "        ])\n",
    "    \n",
    "        ax = Axes(\n",
    "            x_range = [min_trait, max_trait, (max_trait - min_trait)],\n",
    "            y_range = [0, max_y, max_y],\n",
    "            axis_config = {'include_numbers': False},\n",
    "            x_length=6, y_length=5\n",
    "        ).to_edge(LEFT, 1)\n",
    "        \n",
    "        with register_font('./FiraCode-Retina.ttf'):\n",
    "            y_label = ax.get_y_axis_label(Text(r\"Frequency\", font=\"FiraCode Retina\", font_size=27), \n",
    "                                          edge=LEFT).rotate(PI / 2).next_to(ax, LEFT, buff=.1)\n",
    "            x_label = ax.get_x_axis_label(Text(feat, font=\"FiraCode Retina\", font_size=27), \n",
    "                                          edge=DOWN, direction=DOWN, buff=.5)\n",
    "        plot_labels = VGroup(x_label, y_label)\n",
    "        \n",
    "        max_gen = 10**round(np.log10(animate_df['Mean Generation'].max()))\n",
    "        max_y = animate_df[f'Mean {feat}'].max() * 1.05\n",
    "        min_y = animate_df[f'Mean {feat}'].min() * 0.95\n",
    "        ax2 = Axes(\n",
    "            y_range = [min_y, max_y, max_y - min_y],\n",
    "            x_range = [0, max_gen, max_gen / 5],\n",
    "            axis_config = {'include_numbers': True},\n",
    "            x_axis_config = {'decimal_number_config': {'num_decimal_places': 0}},\n",
    "            y_axis_config = {'include_numbers': False},\n",
    "            x_length=6, y_length=5\n",
    "        ).next_to(ax, RIGHT, buff=0.5)\n",
    "        \n",
    "        with register_font('./FiraCode-Retina.ttf'):\n",
    "            y_label2 = ax2.get_y_axis_label(Text(f\"Mean {feat}\", font=\"FiraCode Retina\", font_size=27), \n",
    "                                            edge=LEFT).rotate(PI / 2).next_to(ax2, LEFT, buff=.1)\n",
    "            x_label2 = ax2.get_x_axis_label(Text(\"Time (Generations)\", font=\"FiraCode Retina\", font_size=27), \n",
    "                                            edge=DOWN, direction=DOWN, buff=.3)\n",
    "        plot_labels2 = VGroup(x_label2, y_label2)\n",
    "    \n",
    "        mu = ValueTracker(animate_df.iloc[0, :][f'Mean {feat}'])\n",
    "        sd = ValueTracker(np.sqrt(animate_df.iloc[0, :][f'Var {feat}']))\n",
    "        t = ValueTracker(int(animate_df.iloc[0, :][f'Mean Generation']))\n",
    "\n",
    "        mu_text = MathTex(r'\\mu = ').set_color(YELLOW)\n",
    "        mu_value_text = always_redraw(\n",
    "            lambda: DecimalNumber(num_decimal_places=4)\n",
    "            .set_value(mu.get_value())\n",
    "            .next_to(mu_text, RIGHT, buff=0.2)\n",
    "            .set_color(YELLOW)\n",
    "        )\n",
    "\n",
    "        sd_text = MathTex(r'\\sigma = ').next_to(mu_value_text, RIGHT, buff=1).set_color(YELLOW)\n",
    "        sd_value_text = always_redraw(\n",
    "            lambda: DecimalNumber(num_decimal_places=4)\n",
    "            .set_value(sd.get_value())\n",
    "            .next_to(sd_text, RIGHT, buff=0.2)\n",
    "            .set_color(YELLOW)\n",
    "        )\n",
    "\n",
    "        t_text = MathTex(r't = ').next_to(sd_value_text, RIGHT, buff=1).set_color(YELLOW)\n",
    "        t_value_text = always_redraw(\n",
    "            lambda: DecimalNumber(num_decimal_places=0) \n",
    "            .set_value(t.get_value())\n",
    "            .next_to(t_text, RIGHT, buff=0.2)\n",
    "            .set_color(YELLOW)\n",
    "        )\n",
    "        \n",
    "        axs = VGroup(ax, ax2)\n",
    "        \n",
    "        curve_params = VGroup(mu_text, mu_value_text, sd_text, sd_value_text, t_text, t_value_text)\\\n",
    "            .next_to(axs, UP, buff=0.5)\n",
    "        \n",
    "        curve = always_redraw(\n",
    "            lambda: ax.plot(\n",
    "                lambda x: PDF_normal(x, mu.get_value(), sd.get_value()), \n",
    "                color=YELLOW, \n",
    "                x_range=[min_trait, max_trait, (max_trait - min_trait) / 100]\n",
    "            )\n",
    "        )\n",
    "        \n",
    "        ts, feat_vals = [animate_df.iloc[0, :][f'Mean Generation']], [animate_df.iloc[0, :][f'Mean {feat}']]\n",
    "        feat_timeline = always_redraw(\n",
    "            lambda: ax2.plot_line_graph(ts, feat_vals, vertex_dot_radius=0)\n",
    "        )\n",
    "        \n",
    "        # Start animation\n",
    "        to_create = [ax, plot_labels, ax2, plot_labels2, curve_params, curve, feat_timeline]\n",
    "        self.play(*map(Create, to_create), run_time=3)\n",
    "        # self.add(*to_create)\n",
    "        self.wait()\n",
    "        \n",
    "        for _, row in animate_df.iterrows():\n",
    "            row_mean = row[f'Mean {feat}']\n",
    "            row_sd = np.sqrt(row[f'Var {feat}'])\n",
    "            row_t = int(row['Mean Generation'])\n",
    "            ts.append(row_t)\n",
    "            feat_vals.append(row_mean)\n",
    "            \n",
    "            self.play(\n",
    "                mu.animate.set_value(row_mean), \n",
    "                sd.animate.set_value(row_sd),\n",
    "                t.animate.set_value(row_t),\n",
    "                run_time=.5, rate_func=rate_functions.smooth\n",
    "            )\n",
    "\n",
    "        self.play(*map(Uncreate, to_create), run_time=3)"
   ]
  },
  {
   "cell_type": "code",
   "execution_count": null,
   "id": "f3f66c6a-12fa-4e12-ab60-326c00e17b58",
   "metadata": {},
   "outputs": [],
   "source": []
  }
 ],
 "metadata": {
  "kernelspec": {
   "display_name": "Python 3 (ipykernel)",
   "language": "python",
   "name": "python3"
  },
  "language_info": {
   "codemirror_mode": {
    "name": "ipython",
    "version": 3
   },
   "file_extension": ".py",
   "mimetype": "text/x-python",
   "name": "python",
   "nbconvert_exporter": "python",
   "pygments_lexer": "ipython3",
   "version": "3.11.0"
  }
 },
 "nbformat": 4,
 "nbformat_minor": 5
}
